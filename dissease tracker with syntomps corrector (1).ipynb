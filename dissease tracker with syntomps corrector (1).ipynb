{
 "cells": [
  {
   "cell_type": "code",
   "execution_count": null,
   "id": "6883062a-959b-4183-b439-fd0950061e45",
   "metadata": {},
   "outputs": [
    {
     "name": "stderr",
     "output_type": "stream",
     "text": [
      "C:\\Users\\sayeem khan\\anaconda3\\Lib\\site-packages\\fuzzywuzzy\\fuzz.py:11: UserWarning: Using slow pure-python SequenceMatcher. Install python-Levenshtein to remove this warning\n",
      "  warnings.warn('Using slow pure-python SequenceMatcher. Install python-Levenshtein to remove this warning')\n"
     ]
    },
    {
     "name": "stdout",
     "output_type": "stream",
     "text": [
      "\n",
      "Menu:\n",
      "1. Add a new disease\n",
      "2. Check your disease likelihood based on symptoms\n",
      "3. Exit\n"
     ]
    },
    {
     "name": "stdin",
     "output_type": "stream",
     "text": [
      "Enter your choice (1/2/3):  widespread pain\n"
     ]
    },
    {
     "name": "stdout",
     "output_type": "stream",
     "text": [
      "Invalid choice. Please select again.\n",
      "\n",
      "Menu:\n",
      "1. Add a new disease\n",
      "2. Check your disease likelihood based on symptoms\n",
      "3. Exit\n"
     ]
    },
    {
     "name": "stdin",
     "output_type": "stream",
     "text": [
      "Enter your choice (1/2/3):  fatigue\n"
     ]
    },
    {
     "name": "stdout",
     "output_type": "stream",
     "text": [
      "Invalid choice. Please select again.\n",
      "\n",
      "Menu:\n",
      "1. Add a new disease\n",
      "2. Check your disease likelihood based on symptoms\n",
      "3. Exit\n"
     ]
    },
    {
     "name": "stdin",
     "output_type": "stream",
     "text": [
      "Enter your choice (1/2/3):  sleep disturbances\n"
     ]
    },
    {
     "name": "stdout",
     "output_type": "stream",
     "text": [
      "Invalid choice. Please select again.\n",
      "\n",
      "Menu:\n",
      "1. Add a new disease\n",
      "2. Check your disease likelihood based on symptoms\n",
      "3. Exit\n"
     ]
    },
    {
     "name": "stdin",
     "output_type": "stream",
     "text": [
      "Enter your choice (1/2/3):  memory problems\n"
     ]
    },
    {
     "name": "stdout",
     "output_type": "stream",
     "text": [
      "Invalid choice. Please select again.\n",
      "\n",
      "Menu:\n",
      "1. Add a new disease\n",
      "2. Check your disease likelihood based on symptoms\n",
      "3. Exit\n"
     ]
    },
    {
     "name": "stdin",
     "output_type": "stream",
     "text": [
      "Enter your choice (1/2/3):  done\n"
     ]
    },
    {
     "name": "stdout",
     "output_type": "stream",
     "text": [
      "Invalid choice. Please select again.\n",
      "\n",
      "Menu:\n",
      "1. Add a new disease\n",
      "2. Check your disease likelihood based on symptoms\n",
      "3. Exit\n"
     ]
    },
    {
     "name": "stdin",
     "output_type": "stream",
     "text": [
      "Enter your choice (1/2/3):  2\n"
     ]
    },
    {
     "name": "stdout",
     "output_type": "stream",
     "text": [
      "\n",
      "** Enter Your Symptoms **\n",
      "Type 'done' when finished.\n"
     ]
    },
    {
     "name": "stdin",
     "output_type": "stream",
     "text": [
      "Enter a symptom:  widespread pain\n"
     ]
    },
    {
     "name": "stdout",
     "output_type": "stream",
     "text": [
      "Symptom 'widespread pain' corrected to 'widespread pain'\n"
     ]
    },
    {
     "name": "stdin",
     "output_type": "stream",
     "text": [
      "Enter a symptom:  fatigue\n"
     ]
    },
    {
     "name": "stdout",
     "output_type": "stream",
     "text": [
      "Symptom 'fatigue' corrected to 'fatigue'\n"
     ]
    },
    {
     "name": "stdin",
     "output_type": "stream",
     "text": [
      "Enter a symptom:  done\n"
     ]
    },
    {
     "name": "stdout",
     "output_type": "stream",
     "text": [
      "\n",
      "** Disease Likelihood Based on Your Symptoms **\n",
      "Fibromyalgia: 100.00% chance\n",
      "Cold: 78.12% chance\n",
      "Tuberculosis: 50.00% chance\n",
      "Bronchitis: 50.00% chance\n",
      "Chickenpox: 50.00% chance\n",
      "Influenza: 50.00% chance\n",
      "HIV/AIDS: 50.00% chance\n",
      "Rheumatoid Arthritis: 50.00% chance\n",
      "Multiple Sclerosis: 50.00% chance\n",
      "Leukemia: 50.00% chance\n",
      "Lymphoma: 50.00% chance\n",
      "Colorectal Cancer: 50.00% chance\n",
      "Ovarian Cancer: 50.00% chance\n",
      "Lung Cancer: 50.00% chance\n",
      "Kidney Disease: 50.00% chance\n",
      "Renal Failure: 50.00% chance\n",
      "Endometriosis: 50.00% chance\n",
      "Toxoplasmosis: 50.00% chance\n",
      "Necrotizing Fasciitis: 50.00% chance\n",
      "Hepatitis A: 50.00% chance\n",
      "Hepatitis B: 50.00% chance\n",
      "Hepatitis C: 50.00% chance\n",
      "H1N1 (Swine Flu): 50.00% chance\n",
      "Anthrax: 50.00% chance\n",
      "Whooping Cough (Pertussis): 50.00% chance\n",
      "Cervical Cancer: 50.00% chance\n",
      "Generalized Anxiety Disorder: 50.00% chance\n",
      "Major Depressive Disorder: 50.00% chance\n",
      "Anemia: 50.00% chance\n",
      "Diabetes Insipidus: 50.00% chance\n",
      "Hypothyroidism: 50.00% chance\n",
      "Flu: 34.72% chance\n",
      "COVID-19: 34.72% chance\n",
      "Pneumonia: 34.72% chance\n",
      "Strep Throat: 0.00% chance\n",
      "Sinus Infection: 0.00% chance\n",
      "Allergic Rhinitis: 0.00% chance\n",
      "Gastroenteritis: 0.00% chance\n",
      "Asthma: 0.00% chance\n",
      "Diabetes Mellitus: 0.00% chance\n",
      "Migraine: 0.00% chance\n",
      "Parkinson's Disease: 0.00% chance\n",
      "Cystic Fibrosis: 0.00% chance\n",
      "Alzheimer's Disease: 0.00% chance\n",
      "Stroke: 0.00% chance\n",
      "Breast Cancer: 0.00% chance\n",
      "Kidney Stones: 0.00% chance\n",
      "Polycystic Ovary Syndrome (PCOS): 0.00% chance\n",
      "Menstrual Disorders: 0.00% chance\n",
      "Osteoporosis: 0.00% chance\n",
      "Osteoarthritis: 0.00% chance\n",
      "Meningitis: 0.00% chance\n",
      "Shingles: 0.00% chance\n",
      "Dengue Fever: 0.00% chance\n",
      "Zika Virus: 0.00% chance\n",
      "West Nile Virus: 0.00% chance\n",
      "Rabies: 0.00% chance\n",
      "Cholera: 0.00% chance\n",
      "Scarlet Fever: 0.00% chance\n",
      "Herpes Simplex Virus (HSV): 0.00% chance\n",
      "Acne: 0.00% chance\n",
      "Psoriasis: 0.00% chance\n",
      "Eczema: 0.00% chance\n",
      "Anorexia Nervosa: 0.00% chance\n",
      "Bulimia Nervosa: 0.00% chance\n",
      "Panic Disorder: 0.00% chance\n",
      "Schizophrenia: 0.00% chance\n",
      "Bipolar Disorder: 0.00% chance\n",
      "Obsessive-Compulsive Disorder (OCD): 0.00% chance\n",
      "Post-Traumatic Stress Disorder (PTSD): 0.00% chance\n",
      "Hemophilia: 0.00% chance\n",
      "Blood Clots (Deep Vein Thrombosis): 0.00% chance\n",
      "Astigmatism: 0.00% chance\n",
      "Glaucoma: 0.00% chance\n",
      "Cataracts: 0.00% chance\n",
      "Retinitis Pigmentosa: 0.00% chance\n",
      "Macular Degeneration: 0.00% chance\n",
      "Conjunctivitis (Pink Eye): 0.00% chance\n",
      "Bell's Palsy: 0.00% chance\n",
      "Vertigo: 0.00% chance\n",
      "Meniere's Disease: 0.00% chance\n",
      "Graves' Disease: 0.00% chance\n",
      "Hyperthyroidism: 0.00% chance\n",
      "\n",
      "Menu:\n",
      "1. Add a new disease\n",
      "2. Check your disease likelihood based on symptoms\n",
      "3. Exit\n"
     ]
    },
    {
     "name": "stdin",
     "output_type": "stream",
     "text": [
      "Enter your choice (1/2/3):  2\n"
     ]
    },
    {
     "name": "stdout",
     "output_type": "stream",
     "text": [
      "\n",
      "** Enter Your Symptoms **\n",
      "Type 'done' when finished.\n"
     ]
    },
    {
     "name": "stdin",
     "output_type": "stream",
     "text": [
      "Enter a symptom:  sor throat\n"
     ]
    },
    {
     "name": "stdout",
     "output_type": "stream",
     "text": [
      "Symptom 'sor throat' corrected to 'for throat'\n"
     ]
    },
    {
     "name": "stdin",
     "output_type": "stream",
     "text": [
      "Enter a symptom:  feve\n"
     ]
    },
    {
     "name": "stdout",
     "output_type": "stream",
     "text": [
      "'feve' is not a valid symptom. Did you mean 'high fever'? If so, type that.\n"
     ]
    },
    {
     "name": "stdin",
     "output_type": "stream",
     "text": [
      "Enter a symptom:  fever\n"
     ]
    },
    {
     "name": "stdout",
     "output_type": "stream",
     "text": [
      "Symptom 'fever' corrected to 'fever'\n"
     ]
    },
    {
     "name": "stdin",
     "output_type": "stream",
     "text": [
      "Enter a symptom:  headache\n"
     ]
    },
    {
     "name": "stdout",
     "output_type": "stream",
     "text": [
      "Symptom 'headache' corrected to 'headache'\n"
     ]
    },
    {
     "name": "stdin",
     "output_type": "stream",
     "text": [
      "Enter a symptom:  swollen lymph nodes\n"
     ]
    },
    {
     "name": "stdout",
     "output_type": "stream",
     "text": [
      "Symptom 'swollen lymph nodes' corrected to 'swollen lymph nodes'\n"
     ]
    },
    {
     "name": "stdin",
     "output_type": "stream",
     "text": [
      "Enter a symptom:  done\n"
     ]
    },
    {
     "name": "stdout",
     "output_type": "stream",
     "text": [
      "\n",
      "** Disease Likelihood Based on Your Symptoms **\n",
      "Strep Throat: 100.00% chance\n",
      "Sinus Infection: 66.67% chance\n",
      "Toxoplasmosis: 64.00% chance\n",
      "West Nile Virus: 64.00% chance\n",
      "Chickenpox: 42.67% chance\n",
      "HIV/AIDS: 42.67% chance\n",
      "Lymphoma: 42.67% chance\n",
      "Meningitis: 42.67% chance\n",
      "Zika Virus: 42.67% chance\n",
      "Rabies: 42.67% chance\n",
      "Scarlet Fever: 42.67% chance\n",
      "Tuberculosis: 21.33% chance\n",
      "Gastroenteritis: 21.33% chance\n",
      "Influenza: 21.33% chance\n",
      "Rheumatoid Arthritis: 21.33% chance\n",
      "Necrotizing Fasciitis: 21.33% chance\n",
      "Hepatitis A: 21.33% chance\n",
      "Shingles: 21.33% chance\n",
      "H1N1 (Swine Flu): 21.33% chance\n",
      "Anthrax: 21.33% chance\n",
      "Cholera: 21.33% chance\n",
      "Whooping Cough (Pertussis): 21.33% chance\n",
      "Herpes Simplex Virus (HSV): 21.33% chance\n",
      "Flu: 14.81% chance\n",
      "COVID-19: 14.81% chance\n",
      "Pneumonia: 14.81% chance\n",
      "Cold: 0.00% chance\n",
      "Bronchitis: 0.00% chance\n",
      "Allergic Rhinitis: 0.00% chance\n",
      "Asthma: 0.00% chance\n",
      "Diabetes Mellitus: 0.00% chance\n",
      "Migraine: 0.00% chance\n",
      "Parkinson's Disease: 0.00% chance\n",
      "Cystic Fibrosis: 0.00% chance\n",
      "Alzheimer's Disease: 0.00% chance\n",
      "Stroke: 0.00% chance\n",
      "Multiple Sclerosis: 0.00% chance\n",
      "Leukemia: 0.00% chance\n",
      "Colorectal Cancer: 0.00% chance\n",
      "Breast Cancer: 0.00% chance\n",
      "Ovarian Cancer: 0.00% chance\n",
      "Lung Cancer: 0.00% chance\n",
      "Kidney Disease: 0.00% chance\n",
      "Renal Failure: 0.00% chance\n",
      "Kidney Stones: 0.00% chance\n",
      "Endometriosis: 0.00% chance\n",
      "Polycystic Ovary Syndrome (PCOS): 0.00% chance\n",
      "Menstrual Disorders: 0.00% chance\n",
      "Fibromyalgia: 0.00% chance\n",
      "Osteoporosis: 0.00% chance\n",
      "Osteoarthritis: 0.00% chance\n",
      "Hepatitis B: 0.00% chance\n",
      "Hepatitis C: 0.00% chance\n",
      "Dengue Fever: 0.00% chance\n",
      "Cervical Cancer: 0.00% chance\n",
      "Acne: 0.00% chance\n",
      "Psoriasis: 0.00% chance\n",
      "Eczema: 0.00% chance\n",
      "Anorexia Nervosa: 0.00% chance\n",
      "Bulimia Nervosa: 0.00% chance\n",
      "Panic Disorder: 0.00% chance\n",
      "Generalized Anxiety Disorder: 0.00% chance\n",
      "Schizophrenia: 0.00% chance\n",
      "Bipolar Disorder: 0.00% chance\n",
      "Major Depressive Disorder: 0.00% chance\n",
      "Obsessive-Compulsive Disorder (OCD): 0.00% chance\n",
      "Post-Traumatic Stress Disorder (PTSD): 0.00% chance\n",
      "Anemia: 0.00% chance\n",
      "Hemophilia: 0.00% chance\n",
      "Blood Clots (Deep Vein Thrombosis): 0.00% chance\n",
      "Astigmatism: 0.00% chance\n",
      "Glaucoma: 0.00% chance\n",
      "Cataracts: 0.00% chance\n",
      "Retinitis Pigmentosa: 0.00% chance\n",
      "Macular Degeneration: 0.00% chance\n",
      "Conjunctivitis (Pink Eye): 0.00% chance\n",
      "Bell's Palsy: 0.00% chance\n",
      "Vertigo: 0.00% chance\n",
      "Meniere's Disease: 0.00% chance\n",
      "Diabetes Insipidus: 0.00% chance\n",
      "Graves' Disease: 0.00% chance\n",
      "Hypothyroidism: 0.00% chance\n",
      "Hyperthyroidism: 0.00% chance\n",
      "\n",
      "Menu:\n",
      "1. Add a new disease\n",
      "2. Check your disease likelihood based on symptoms\n",
      "3. Exit\n"
     ]
    }
   ],
   "source": [
    "from textblob import TextBlob\n",
    "from fuzzywuzzy import process\n",
    "\n",
    "# Diseases with their symptoms\n",
    "diseases = {\n",
    "    \"Cold\": ['cough', 'sore throat', 'runny nose', 'fatigue'],\n",
    "    \"Flu\": ['fever', 'body aches', 'chills', 'fatigue', 'cough', 'sore throat'],\n",
    "    \"COVID-19\": ['fever', 'cough', 'fatigue', 'sore throat', 'loss of taste or smell', 'shortness of breath'],\n",
    "    \"Pneumonia\": ['cough', 'fever', 'chills', 'fatigue', 'chest pain', 'shortness of breath'],\n",
    "    \"Tuberculosis\": ['cough', 'weight loss', 'fever', 'fatigue', 'night sweats'],\n",
    "    \"Strep Throat\": ['sore throat', 'fever', 'headache', 'swollen lymph nodes'],\n",
    "    \"Sinus Infection\": ['nasal congestion', 'headache', 'fever', 'facial pain'],\n",
    "    \"Bronchitis\": ['cough', 'fatigue', 'chills', 'shortness of breath', 'chest discomfort'],\n",
    "    \"Allergic Rhinitis\": ['sneezing', 'runny nose', 'itchy eyes', 'cough'],\n",
    "    \"Gastroenteritis\": ['nausea', 'vomiting', 'diarrhea', 'fever', 'stomach cramps'],\n",
    "    \"Asthma\": ['wheezing','coughing','shortness of breath','chest tightness','difficulty breathing'],\n",
    "    \"Diabetes Mellitus\": ['increased thirst', 'frequent urination', 'extreme fatigue', 'blurred vision', 'unexplained weight loss'],\n",
    "    \"Chickenpox\": ['itchy rash', 'fever', 'fatigue', 'headache', 'loss of appetite'],\n",
    "    \"Migraine\": ['severe headache', 'nausea', 'vomiting', 'sensitivity to light', 'sensitivity to sound'],\n",
    "    \"Influenza\": ['fever', 'chills', 'muscle aches', 'fatigue', 'sore throat'],\n",
    "    \"Parkinson\\'s Disease\": ['tremors', 'muscle rigidity', 'bradykinesia (slow movement)', 'postural instability', 'shuffling walk'],\n",
    "    \"HIV/AIDS\": ['fever', 'fatigue', 'swollen lymph nodes', 'night sweats', 'unexplained weight loss'],\n",
    "    \"Cystic Fibrosis\": ['persistent cough', 'wheezing', 'shortness of breath', 'chronic lung infections', 'poor growth'],\n",
    "    \"Alzheimer\\'s Disease\": ['memory loss', 'confusion', 'difficulty performing daily tasks', 'mood swings', 'disorientation'],\n",
    "    \"Rheumatoid Arthritis\": ['joint pain', 'swelling', 'stiffness', 'fatigue', 'fever'],\n",
    "    \"Stroke\": ['sudden numbness', 'confusion', 'trouble speaking', 'vision problems', 'severe headache'],\n",
    "    \"Multiple Sclerosis\": ['numbness', 'weakness', 'vision problems', 'difficulty walking', 'fatigue'],\n",
    "    \"Leukemia\": ['fatigue', 'frequent infections', 'easy bruising', 'bone pain', 'weight loss'],\n",
    "    \"Lymphoma\": ['swollen lymph nodes', 'fatigue', 'fever', 'night sweats', 'unexplained weight loss'],\n",
    "    \"Colorectal Cancer\": ['blood in stool', 'changes in bowel habits', 'abdominal pain', 'fatigue', 'unexplained weight loss'],\n",
    "    \"Breast Cancer\": ['lump in breast', 'changes in breast appearance', 'skin changes', 'pain', 'unexplained weight loss'],\n",
    "    \"Ovarian Cancer\": ['abdominal bloating', 'pelvic pain', 'frequent urination', 'fatigue', 'unexplained weight loss'],\n",
    "    \"Lung Cancer\": ['persistent cough', 'chest pain', 'shortness of breath', 'fatigue', 'unexplained weight loss'],\n",
    "    \"Kidney Disease\": ['fatigue', 'swelling', 'changes in urination', 'back pain', 'high blood pressure'],\n",
    "    \"Renal Failure\": ['swelling', 'fatigue', 'difficulty breathing', 'confusion', 'changes in urination'],\n",
    "    \"Kidney Stones\": ['severe pain', 'blood in urine', 'nausea', 'vomiting', 'painful urination'],\n",
    "    \"Endometriosis\": ['pelvic pain', 'heavy periods', 'pain during intercourse', 'fatigue', 'painful bowel movements'],\n",
    "    \"Polycystic Ovary Syndrome (PCOS)\": ['irregular periods', 'excess hair growth', 'acne', 'weight gain', 'fertility issues'],\n",
    "    \"Menstrual Disorders\": ['irregular periods', 'heavy bleeding', 'painful periods', 'absence of periods', 'mood changes'],\n",
    "    \"Fibromyalgia\": ['widespread pain', 'fatigue', 'sleep disturbances', 'memory problems', 'headaches'],\n",
    "    \"Osteoporosis\": ['bone fractures', 'back pain', 'loss of height', 'stooped posture', 'muscle weakness'],\n",
    "    \"Osteoarthritis\": ['joint pain', 'stiffness', 'swelling', 'reduced range of motion', 'cracking sound in joints'],\n",
    "    \"Meningitis\": ['fever', 'headache', 'stiff neck', 'nausea', 'sensitivity to light'],\n",
    "    \"Toxoplasmosis\": ['fever', 'fatigue', 'muscle aches', 'headache', 'swollen lymph nodes'],\n",
    "    \"Necrotizing Fasciitis\": ['severe pain', 'redness or swelling of the skin', 'fever', 'nausea', 'fatigue'],\n",
    "    \"Hepatitis A\": ['fever', 'fatigue', 'loss of appetite', 'abdominal pain', 'jaundice'],\n",
    "    \"Hepatitis B\": ['fatigue', 'nausea', 'vomiting', 'abdominal pain', 'jaundice'],\n",
    "    \"Hepatitis C\": ['fatigue', 'loss of appetite', 'nausea', 'abdominal pain', 'jaundice'],\n",
    "    \"Shingles\": ['painful rash', 'itching', 'burning sensation', 'fever', 'sensitivity to touch'],\n",
    "    \"Dengue Fever\": ['high fever', 'severe headache', 'pain behind the eyes', 'joint pain', 'skin rash'],\n",
    "    \"Zika Virus\": ['fever', 'rash', 'joint pain', 'red eyes', 'headache'],\n",
    "    \"West Nile Virus\": ['fever', 'headache', 'muscle pain', 'rash', 'swollen lymph nodes'],\n",
    "    \"Rabies\": ['fever', 'headache', 'nausea', 'vomiting', 'agitation'],\n",
    "    \"H1N1 (Swine Flu)\": ['fever', 'cough', 'sore throat', 'body aches', 'fatigue'],\n",
    "    \"Anthrax\": ['fever', 'fatigue', 'cough', 'chest pain', 'shortness of breath'],\n",
    "    \"Cholera\": ['diarrhea', 'vomiting', 'dehydration', 'abdominal cramps', 'fever'],\n",
    "    \"Scarlet Fever\": ['fever', 'rash', 'sore throat', 'red tongue', 'swollen lymph nodes'],\n",
    "    \"Whooping Cough (Pertussis)\": ['severe coughing fits', 'wheezing', 'runny nose', 'fever', 'fatigue'],\n",
    "    \"Herpes Simplex Virus (HSV)\": ['painful blisters', 'itching', 'burning sensation', 'pain during urination', 'swollen lymph nodes'],\n",
    "    \"Cervical Cancer\": ['abnormal vaginal bleeding', 'pelvic pain', 'pain during intercourse', 'unexplained weight loss', 'fatigue'],\n",
    "    \"Acne\": ['pimples', 'blackheads', 'whiteheads', 'cysts', 'scarring'],\n",
    "    \"Psoriasis\": ['red, scaly patches on skin', 'itching', 'burning sensation', 'dry skin', 'thickened nails'],\n",
    "    \"Eczema\": ['itchy skin', 'redness', 'dry patches', 'swelling', 'crusting'],\n",
    "    \"Anorexia Nervosa\": ['extreme weight loss', 'fear of gaining weight', 'distorted body image', 'restrictive eating', 'excessive exercise'],\n",
    "    \"Bulimia Nervosa\": ['binging', 'purging', 'severe weight fluctuations', 'obsession with body image', 'guilt after eating'],\n",
    "    \"Panic Disorder\": ['racing heart', 'shortness of breath', 'chest pain', 'dizziness', 'feeling of choking'],\n",
    "    \"Generalized Anxiety Disorder\": ['excessive worry', 'fatigue', 'irritability', 'difficulty concentrating', 'muscle tension'],\n",
    "    \"Schizophrenia\": ['delusions', 'hallucinations', 'disorganized speech', 'lack of emotion', 'withdrawal from social activities'],\n",
    "    \"Bipolar Disorder\": ['extreme mood swings', 'depression', 'mania', 'irritability', 'impulsivity'],\n",
    "    \"Major Depressive Disorder\": ['persistent sadness', 'loss of interest', 'fatigue', 'difficulty concentrating', 'thoughts of death'],\n",
    "    \"Obsessive-Compulsive Disorder (OCD)\": ['repetitive thoughts', 'compulsive behaviors', 'anxiety', 'difficulty functioning', 'distress from rituals'],\n",
    "    \"Post-Traumatic Stress Disorder (PTSD)\": ['flashbacks', 'nightmares', 'irritability', 'avoidance', 'difficulty sleeping'],\n",
    "    \"Anemia\": ['fatigue', 'pale skin', 'dizziness', 'shortness of breath', 'chest pain'],\n",
    "    \"Hemophilia\": ['excessive bleeding', 'easy bruising', 'joint pain', 'swelling', 'nosebleeds'],\n",
    "    \"Blood Clots (Deep Vein Thrombosis)\": ['swelling', 'pain or tenderness in leg', 'warmth or redness', 'leg cramps', 'discolored skin'],\n",
    "    \"Astigmatism\": ['blurred vision', 'eye strain', 'headaches', 'squinting', 'difficulty seeing at night'],\n",
    "    \"Glaucoma\": ['loss of peripheral vision', 'eye pain', 'blurred vision', 'nausea', 'vomiting'],\n",
    "    \"Cataracts\": ['cloudy vision', 'difficulty seeing at night', 'fading colors', 'sensitivity to light', 'double vision'],\n",
    "    \"Retinitis Pigmentosa\": ['night blindness', 'loss of peripheral vision', 'difficulty adjusting to low light', 'blurry vision', 'tunnel vision'],\n",
    "    \"Macular Degeneration\": ['blurry vision', 'difficulty reading', 'distorted vision', 'blind spots', 'loss of central vision'],\n",
    "    \"Conjunctivitis (Pink Eye)\": ['redness', 'itching', 'discharge', 'tearing', 'swelling'],\n",
    "    \"Bell\\'s Palsy\": ['facial drooping', 'difficulty closing eyelid', 'loss of taste on one side of tongue', 'muscle weakness', 'pain behind ear'],\n",
    "    \"Vertigo\": ['dizziness', 'spinning sensation', 'loss of balance', 'nausea', 'vomiting'],\n",
    "    \"Meniere\\'s Disease\": ['vertigo', 'hearing loss', 'tinnitus', 'fullness in ear', 'nausea'],\n",
    "    \"Diabetes Insipidus\": ['frequent urination', 'excessive thirst', 'fatigue', 'dry skin', 'dizziness'],\n",
    "    \"Graves\\' Disease\": ['weight loss', 'increased appetite', 'nervousness', 'rapid heartbeat', 'tremors'],\n",
    "    \"Hypothyroidism\": ['fatigue', 'weight gain', 'sensitivity to cold', 'dry skin', 'hair loss'],\n",
    "    \"Hyperthyroidism\": ['weight loss', 'increased appetite', 'rapid heartbeat', 'sweating', 'nervousness']\n",
    "}\n",
    "\n",
    "# Function to correct spelling\n",
    "def correct_spelling(input_symptom):\n",
    "    blob = TextBlob(input_symptom)\n",
    "    return str(blob.correct())\n",
    "\n",
    "# Fuzzy matching to find the closest symptom in the disease list\n",
    "def find_closest_match(input_symptom, disease_symptoms):\n",
    "    best_match = process.extractOne(input_symptom, disease_symptoms)\n",
    "    return best_match\n",
    "\n",
    "# Function to validate user input and ensure correct symptom entry\n",
    "def get_valid_symptom(disease_symptoms):\n",
    "    while True:\n",
    "        symptom = input(\"Enter a symptom: \").strip()\n",
    "        if symptom.lower() == 'done':\n",
    "            return None\n",
    "        # Spell correction\n",
    "        corrected_symptom = correct_spelling(symptom)\n",
    "        \n",
    "        # Check if corrected symptom matches any in the list\n",
    "        match = find_closest_match(corrected_symptom, disease_symptoms)\n",
    "        if match[1] >= 80:  # Match confidence threshold (80%)\n",
    "            print(f\"Symptom '{symptom}' corrected to '{corrected_symptom}'\")\n",
    "            return corrected_symptom\n",
    "        else:\n",
    "            print(f\"'{symptom}' is not a valid symptom. Did you mean '{match[0]}'? If so, type that.\")\n",
    "\n",
    "# Function to collect user symptoms, including validation\n",
    "def collect_user_symptoms():\n",
    "    user_symptoms = []\n",
    "    print(\"\\n** Enter Your Symptoms **\")\n",
    "    print(\"Type 'done' when finished.\")\n",
    "    \n",
    "    while True:\n",
    "        symptom = get_valid_symptom([symptom for disease in diseases.values() for symptom in disease])\n",
    "        if symptom is None:  # End input if 'done' is typed\n",
    "            break\n",
    "        user_symptoms.append(symptom)\n",
    "\n",
    "    return user_symptoms\n",
    "\n",
    "# Function to calculate disease likelihood based on symptoms\n",
    "def calculate_likelihood(diseases, user_symptoms):\n",
    "    disease_scores = {}\n",
    "\n",
    "    for disease, symptoms in diseases.items():\n",
    "        matched_symptoms = sum(1 for symptom in symptoms if symptom in user_symptoms)\n",
    "        \n",
    "        if matched_symptoms == 0:\n",
    "            disease_scores[disease] = 0\n",
    "        else:\n",
    "            disease_score = matched_symptoms / len(symptoms) * (len(user_symptoms) / len(symptoms)) * 100\n",
    "            disease_scores[disease] = disease_score\n",
    "\n",
    "    max_score = max(disease_scores.values(), default=1)\n",
    "    disease_percentages = {disease: (score / max_score) * 100 for disease, score in disease_scores.items()}\n",
    "\n",
    "    return disease_percentages\n",
    "\n",
    "# Function to display disease likelihood results\n",
    "def display_results(disease_percentages):\n",
    "    print(\"\\n** Disease Likelihood Based on Your Symptoms **\")\n",
    "    if not disease_percentages:\n",
    "        print(\"No diseases matched the symptoms provided.\")\n",
    "    else:\n",
    "        for disease, percentage in sorted(disease_percentages.items(), key=lambda x: x[1], reverse=True):\n",
    "            print(f\"{disease}: {percentage:.2f}% chance\")\n",
    "\n",
    "# Menu-driven function to interact with the user\n",
    "def main():\n",
    "    while True:\n",
    "        print(\"\\nMenu:\")\n",
    "        print(\"1. Add a new disease\")\n",
    "        print(\"2. Check your disease likelihood based on symptoms\")\n",
    "        print(\"3. Exit\")\n",
    "\n",
    "        choice = input(\"Enter your choice (1/2/3): \").strip()\n",
    "\n",
    "        if choice == \"1\":\n",
    "            disease_name = input(\"Enter the name of the disease: \").strip()\n",
    "            symptoms = []\n",
    "            print(f\"Enter symptoms for {disease_name}. Type 'done' when finished.\")\n",
    "            \n",
    "            while True:\n",
    "                symptom = get_valid_symptom([symptom for disease in diseases.values() for symptom in disease])\n",
    "                if symptom is None:\n",
    "                    break\n",
    "                symptoms.append(symptom)\n",
    "\n",
    "            diseases[disease_name] = symptoms\n",
    "            print(f\"{disease_name} has been added with symptoms: {symptoms}\")\n",
    "\n",
    "        elif choice == \"2\":\n",
    "            user_symptoms = collect_user_symptoms()\n",
    "            disease_percentages = calculate_likelihood(diseases, user_symptoms)\n",
    "            display_results(disease_percentages)\n",
    "\n",
    "        elif choice == \"3\":\n",
    "            print(\"Exiting the Symptom Checker. Goodbye!\")\n",
    "            break\n",
    "        else:\n",
    "            print(\"Invalid choice. Please select again.\")\n",
    "\n",
    "if __name__ == \"__main__\":\n",
    "    main()\n"
   ]
  }
 ],
 "metadata": {
  "kernelspec": {
   "display_name": "Python 3 (ipykernel)",
   "language": "python",
   "name": "python3"
  },
  "language_info": {
   "codemirror_mode": {
    "name": "ipython",
    "version": 3
   },
   "file_extension": ".py",
   "mimetype": "text/x-python",
   "name": "python",
   "nbconvert_exporter": "python",
   "pygments_lexer": "ipython3",
   "version": "3.12.7"
  }
 },
 "nbformat": 4,
 "nbformat_minor": 5
}
